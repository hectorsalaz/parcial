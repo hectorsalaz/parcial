{
  "nbformat": 4,
  "nbformat_minor": 0,
  "metadata": {
    "colab": {
      "provenance": [],
      "include_colab_link": true
    },
    "kernelspec": {
      "name": "python3",
      "display_name": "Python 3"
    },
    "language_info": {
      "name": "python"
    }
  },
  "cells": [
    {
      "cell_type": "markdown",
      "metadata": {
        "id": "view-in-github",
        "colab_type": "text"
      },
      "source": [
        "<a href=\"https://colab.research.google.com/github/hectorsalaz/parcial/blob/main/Programaci%C3%B3nfuncional.ipynb\" target=\"_parent\"><img src=\"https://colab.research.google.com/assets/colab-badge.svg\" alt=\"Open In Colab\"/></a>"
      ]
    },
    {
      "cell_type": "code",
      "execution_count": null,
      "metadata": {
        "colab": {
          "base_uri": "https://localhost:8080/"
        },
        "id": "QLY7PomCID9v",
        "outputId": "64ce3c69-9842-4924-f9c6-897d585befe6"
      },
      "outputs": [
        {
          "output_type": "stream",
          "name": "stdout",
          "text": [
            "total 16\n",
            "drwxr-xr-x 1 root root 4096 Oct  7 13:35 .\n",
            "drwxr-xr-x 1 root root 4096 Oct 15 19:30 ..\n",
            "drwxr-xr-x 4 root root 4096 Oct  7 13:34 .config\n",
            "drwxr-xr-x 1 root root 4096 Oct  7 13:35 sample_data\n"
          ]
        }
      ],
      "source": [
        "!ls -la"
      ]
    },
    {
      "cell_type": "markdown",
      "source": [
        "# Técnicas de programación funcional"
      ],
      "metadata": {
        "id": "mag_UdXGIbCo"
      }
    },
    {
      "cell_type": "code",
      "source": [
        "def cuadrado(x):\n",
        "  return x*x\n",
        "def potencia(a,b):\n",
        "  return a**b\n",
        "def suma(a,b):\n",
        "  return a+b\n",
        "def resta (a,b):\n",
        "  return a-b\n",
        "def multiplicacion(a,b):\n",
        "  return a*b\n",
        "def division (a,b):\n",
        "  return a/b\n"
      ],
      "metadata": {
        "id": "9zXg0xBLIsyQ"
      },
      "execution_count": 1,
      "outputs": []
    },
    {
      "cell_type": "code",
      "source": [
        "cuadrado(5)"
      ],
      "metadata": {
        "colab": {
          "base_uri": "https://localhost:8080/"
        },
        "id": "qUd9QcsyJHtG",
        "outputId": "aa4c2a8a-ae66-4363-c667-7054021d585a"
      },
      "execution_count": 4,
      "outputs": [
        {
          "output_type": "execute_result",
          "data": {
            "text/plain": [
              "25"
            ]
          },
          "metadata": {},
          "execution_count": 4
        }
      ]
    },
    {
      "cell_type": "markdown",
      "source": [
        "# apuntadores a funciones"
      ],
      "metadata": {
        "id": "zaQswH51JWM9"
      }
    },
    {
      "cell_type": "code",
      "source": [
        "fc=cuadrado"
      ],
      "metadata": {
        "id": "kmZmOYG2JNNw"
      },
      "execution_count": 5,
      "outputs": []
    },
    {
      "cell_type": "code",
      "source": [
        "fc(9)"
      ],
      "metadata": {
        "colab": {
          "base_uri": "https://localhost:8080/"
        },
        "id": "WcUVIunrJdLf",
        "outputId": "6ce5dd87-b60f-40ea-d341-46182d128594"
      },
      "execution_count": 6,
      "outputs": [
        {
          "output_type": "execute_result",
          "data": {
            "text/plain": [
              "81"
            ]
          },
          "metadata": {},
          "execution_count": 6
        }
      ]
    },
    {
      "cell_type": "markdown",
      "source": [
        "# Calculadora con apuntadores"
      ],
      "metadata": {
        "id": "qAiSqHamKHKu"
      }
    },
    {
      "cell_type": "code",
      "source": [
        "tecla=0\n",
        "tecla=int(input('1.suma\\n2.potencia\\n3.multiplicacion\\n4.division\\n5.resta\\n6.salir\\n'))\n",
        "while tecla!=6:\n",
        "  num1=float(input('ingrese número 1: '))\n",
        "  num2=float(input('ingrese número 2: '))\n",
        "  op=None\n",
        "  if tecla==1:\n",
        "    op=suma\n",
        "  if tecla==2:\n",
        "    op=potencia\n",
        "  if tecla==3:\n",
        "    op=multiplicacion\n",
        "  if tecla==4:\n",
        "    op=division\n",
        "  if tecla==5:\n",
        "    op=resta\n",
        "  r=op(num1,num2)\n",
        "  print(r)\n",
        "  tecla=int(input('1.suma\\n2.potencia\\n3.multiplicacion\\n4.division\\n5.resta\\n6.salir\\n\\n'))\n"
      ],
      "metadata": {
        "colab": {
          "base_uri": "https://localhost:8080/"
        },
        "id": "g0ZmYRwTKJnI",
        "outputId": "8742bec9-5cb2-4fca-8724-4c07faaa9b36"
      },
      "execution_count": 7,
      "outputs": [
        {
          "name": "stdout",
          "output_type": "stream",
          "text": [
            "1.suma\n",
            "2.potencia\n",
            "3.multiplicacion\n",
            "4.division\n",
            "5.resta\n",
            "6.salir\n",
            "5\n",
            "ingrese número 1: 9\n",
            "ingrese número 2: 1\n",
            "8.0\n",
            "1.suma\n",
            "2.potencia\n",
            "3.multiplicacion\n",
            "4.division\n",
            "5.resta\n",
            "6.salir\n",
            "\n",
            "1\n",
            "ingrese número 1: 2\n",
            "ingrese número 2: 2\n",
            "4.0\n",
            "1.suma\n",
            "2.potencia\n",
            "3.multiplicacion\n",
            "4.division\n",
            "5.resta\n",
            "6.salir\n",
            "\n",
            "2\n",
            "ingrese número 1: 5\n",
            "ingrese número 2: 2\n",
            "25.0\n",
            "1.suma\n",
            "2.potencia\n",
            "3.multiplicacion\n",
            "4.division\n",
            "5.resta\n",
            "6.salir\n",
            "\n",
            "3\n",
            "ingrese número 1: 5\n",
            "ingrese número 2: 5\n",
            "25.0\n",
            "1.suma\n",
            "2.potencia\n",
            "3.multiplicacion\n",
            "4.division\n",
            "5.resta\n",
            "6.salir\n",
            "\n",
            "4\n",
            "ingrese número 1: 60\n",
            "ingrese número 2: 3\n",
            "20.0\n",
            "1.suma\n",
            "2.potencia\n",
            "3.multiplicacion\n",
            "4.division\n",
            "5.resta\n",
            "6.salir\n",
            "\n",
            "5\n",
            "ingrese número 1: 7\n",
            "ingrese número 2: 6\n",
            "1.0\n",
            "1.suma\n",
            "2.potencia\n",
            "3.multiplicacion\n",
            "4.division\n",
            "5.resta\n",
            "6.salir\n",
            "\n",
            "6\n"
          ]
        }
      ]
    },
    {
      "cell_type": "markdown",
      "source": [
        "# Lambda expressions"
      ],
      "metadata": {
        "id": "4Tsb8FghMNht"
      }
    },
    {
      "cell_type": "code",
      "source": [
        "tecla=0\n",
        "tecla=int(input('1.suma\\n2.potencia\\n3.multiplicacion\\n4.division\\n5.resta\\n6.salir\\n'))\n",
        "while tecla!=6:\n",
        "  num1=float(input('ingrese número 1: '))\n",
        "  num2=float(input('ingrese número 2: '))\n",
        "  op=None\n",
        "  if tecla==1:\n",
        "    op=lambda a,b:a+b\n",
        "  if tecla==2:\n",
        "    op=lambda a,b:a**b\n",
        "  if tecla==3:\n",
        "    op=lambda a,b:a*b\n",
        "  if tecla==4:\n",
        "    op=lambda a,b:a/b\n",
        "  if tecla==5:\n",
        "    op=lambda a,b:a-b\n",
        "  r=op(num1,num2)\n",
        "  print(r)\n",
        "  tecla=int(input('1.suma\\n2.potencia\\n3.multiplicacion\\n4.division\\n5.resta.\\n6.salir\\n\\n'))"
      ],
      "metadata": {
        "colab": {
          "base_uri": "https://localhost:8080/",
          "height": 401
        },
        "id": "sQjqVnJhMQhM",
        "outputId": "1ec4ddca-b36c-4ca5-82f6-691ad359c36d"
      },
      "execution_count": 4,
      "outputs": [
        {
          "name": "stdout",
          "output_type": "stream",
          "text": [
            "1.suma\n",
            "2.potencia\n",
            "3.multiplicacion\n",
            "4.division\n",
            "5.resta\n",
            "6.salir\n",
            "6\n",
            "ingrese número 1: 8.\n",
            "ingrese número 2: 2\n"
          ]
        },
        {
          "output_type": "error",
          "ename": "TypeError",
          "evalue": "'NoneType' object is not callable",
          "traceback": [
            "\u001b[0;31m---------------------------------------------------------------------------\u001b[0m",
            "\u001b[0;31mTypeError\u001b[0m                                 Traceback (most recent call last)",
            "\u001b[0;32m<ipython-input-4-d27c8f1e6c37>\u001b[0m in \u001b[0;36m<cell line: 3>\u001b[0;34m()\u001b[0m\n\u001b[1;32m     15\u001b[0m   \u001b[0;32mif\u001b[0m \u001b[0mtecla\u001b[0m\u001b[0;34m==\u001b[0m\u001b[0;36m5\u001b[0m\u001b[0;34m:\u001b[0m\u001b[0;34m\u001b[0m\u001b[0;34m\u001b[0m\u001b[0m\n\u001b[1;32m     16\u001b[0m     \u001b[0mop\u001b[0m\u001b[0;34m=\u001b[0m\u001b[0;32mlambda\u001b[0m \u001b[0ma\u001b[0m\u001b[0;34m,\u001b[0m\u001b[0mb\u001b[0m\u001b[0;34m:\u001b[0m\u001b[0ma\u001b[0m\u001b[0;34m-\u001b[0m\u001b[0mb\u001b[0m\u001b[0;34m\u001b[0m\u001b[0;34m\u001b[0m\u001b[0m\n\u001b[0;32m---> 17\u001b[0;31m   \u001b[0mr\u001b[0m\u001b[0;34m=\u001b[0m\u001b[0mop\u001b[0m\u001b[0;34m(\u001b[0m\u001b[0mnum1\u001b[0m\u001b[0;34m,\u001b[0m\u001b[0mnum2\u001b[0m\u001b[0;34m)\u001b[0m\u001b[0;34m\u001b[0m\u001b[0;34m\u001b[0m\u001b[0m\n\u001b[0m\u001b[1;32m     18\u001b[0m   \u001b[0mprint\u001b[0m\u001b[0;34m(\u001b[0m\u001b[0mr\u001b[0m\u001b[0;34m)\u001b[0m\u001b[0;34m\u001b[0m\u001b[0;34m\u001b[0m\u001b[0m\n\u001b[1;32m     19\u001b[0m   \u001b[0mtecla\u001b[0m\u001b[0;34m=\u001b[0m\u001b[0mint\u001b[0m\u001b[0;34m(\u001b[0m\u001b[0minput\u001b[0m\u001b[0;34m(\u001b[0m\u001b[0;34m'1.suma\\n2.potencia\\n3.multiplicacion\\n4.division\\n5.resta.\\n6.salir\\n\\n'\u001b[0m\u001b[0;34m)\u001b[0m\u001b[0;34m)\u001b[0m\u001b[0;34m\u001b[0m\u001b[0;34m\u001b[0m\u001b[0m\n",
            "\u001b[0;31mTypeError\u001b[0m: 'NoneType' object is not callable"
          ]
        }
      ]
    },
    {
      "cell_type": "markdown",
      "source": [
        "# Map Reduce"
      ],
      "metadata": {
        "id": "IAPougw2Mz_d"
      }
    },
    {
      "cell_type": "code",
      "source": [
        "salaries=[10.,90.,50.,55.,62.]\n"
      ],
      "metadata": {
        "id": "lcaxX6sVM2p-"
      },
      "execution_count": null,
      "outputs": []
    },
    {
      "cell_type": "markdown",
      "source": [
        "Set squared elements all"
      ],
      "metadata": {
        "id": "D0teZ5FcOKwm"
      }
    },
    {
      "cell_type": "code",
      "source": [
        "# structured programing\n",
        "\n",
        "def squarednumbers(numbers):\n",
        "  lnumbers=[]\n",
        "  for item in numbers:\n",
        "    lnumbers.append(item*item)\n",
        "  return lnumbers\n"
      ],
      "metadata": {
        "id": "zX2ztTBYNnZW"
      },
      "execution_count": null,
      "outputs": []
    },
    {
      "cell_type": "code",
      "source": [
        "salaries,squarednumbers(salaries)"
      ],
      "metadata": {
        "colab": {
          "base_uri": "https://localhost:8080/"
        },
        "id": "JXHFURMJPbyJ",
        "outputId": "9c8eb390-9c80-41e6-feb2-1ce574088f03"
      },
      "execution_count": null,
      "outputs": [
        {
          "output_type": "execute_result",
          "data": {
            "text/plain": [
              "([10.0, 90.0, 50.0, 55.0, 62.0], [100.0, 8100.0, 2500.0, 3025.0, 3844.0])"
            ]
          },
          "metadata": {},
          "execution_count": 21
        }
      ]
    },
    {
      "cell_type": "code",
      "source": [
        "# functional programming\n",
        "list(map(lambda x:x*x,salaries))"
      ],
      "metadata": {
        "colab": {
          "base_uri": "https://localhost:8080/"
        },
        "id": "WBR9CYbVPq2V",
        "outputId": "ea12c638-df01-4b5b-b803-e90afa4592e2"
      },
      "execution_count": null,
      "outputs": [
        {
          "output_type": "execute_result",
          "data": {
            "text/plain": [
              "[100.0, 8100.0, 2500.0, 3025.0, 3844.0]"
            ]
          },
          "metadata": {},
          "execution_count": 23
        }
      ]
    },
    {
      "cell_type": "code",
      "source": [
        "# structured programing\n",
        "def sum(numbers):\n",
        "  sum=0\n",
        "  for item in numbers:\n",
        "    sum+=item\n",
        "  return sum"
      ],
      "metadata": {
        "id": "8fRuXIuXP7Md"
      },
      "execution_count": null,
      "outputs": []
    },
    {
      "cell_type": "code",
      "source": [
        "salaries,sum(salaries)"
      ],
      "metadata": {
        "colab": {
          "base_uri": "https://localhost:8080/"
        },
        "id": "-4QwblweQDQB",
        "outputId": "e3d5f2ac-3d98-4864-8d56-0670765a1a8c"
      },
      "execution_count": null,
      "outputs": [
        {
          "output_type": "execute_result",
          "data": {
            "text/plain": [
              "([10.0, 90.0, 50.0, 55.0, 62.0], 267.0)"
            ]
          },
          "metadata": {},
          "execution_count": 26
        }
      ]
    },
    {
      "cell_type": "code",
      "source": [
        "import functools\n",
        "functools.reduce(lambda a, b: a+b, salaries)"
      ],
      "metadata": {
        "colab": {
          "base_uri": "https://localhost:8080/"
        },
        "id": "7QN-RB1KQSH2",
        "outputId": "3a6a3c11-b6df-44a5-88d0-f661b1174cd9"
      },
      "execution_count": null,
      "outputs": [
        {
          "output_type": "execute_result",
          "data": {
            "text/plain": [
              "267.0"
            ]
          },
          "metadata": {},
          "execution_count": 27
        }
      ]
    },
    {
      "cell_type": "markdown",
      "source": [
        "# Filter"
      ],
      "metadata": {
        "id": "ibuxyOldO4z2"
      }
    },
    {
      "cell_type": "code",
      "source": [],
      "metadata": {
        "id": "gAmIdURrO56g"
      },
      "execution_count": null,
      "outputs": []
    }
  ]
}